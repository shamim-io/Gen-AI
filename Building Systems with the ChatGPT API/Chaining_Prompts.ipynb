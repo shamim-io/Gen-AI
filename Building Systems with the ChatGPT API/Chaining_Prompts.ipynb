{
 "cells": [
  {
   "cell_type": "markdown",
   "metadata": {},
   "source": [
    "## Chaining Prompts\n"
   ]
  },
  {
   "cell_type": "code",
   "execution_count": 1,
   "metadata": {},
   "outputs": [],
   "source": [
    "import os\n",
    "import openai\n",
    "from dotenv import load_dotenv, find_dotenv\n",
    "_ = load_dotenv(find_dotenv()) # read local .env file\n",
    "\n",
    "openai.api_key  = os.environ['OPENAI_API_KEY']"
   ]
  },
  {
   "cell_type": "code",
   "execution_count": 2,
   "metadata": {},
   "outputs": [],
   "source": [
    "def get_completion_from_messages(messages, \n",
    "                                 model=\"gpt-3.5-turbo\", \n",
    "                                 temperature=0, \n",
    "                                 max_tokens=500):\n",
    "    response = openai.ChatCompletion.create(\n",
    "        model=model,\n",
    "        messages=messages,\n",
    "        temperature=temperature, \n",
    "        max_tokens=max_tokens, \n",
    "    )\n",
    "    return response.choices[0].message[\"content\"]"
   ]
  },
  {
   "cell_type": "markdown",
   "metadata": {},
   "source": [
    "### Implement a complex task with multiple prompts"
   ]
  },
  {
   "cell_type": "code",
   "execution_count": 3,
   "metadata": {},
   "outputs": [
    {
     "name": "stdout",
     "output_type": "stream",
     "text": [
      "[\n",
      "    {'category': 'Smartphones and Accessories', 'products': ['SmartX ProPhone']},\n",
      "    {'category': 'Cameras and Camcorders', 'products': ['FotoSnap DSLR Camera']},\n",
      "    {'category': 'Televisions and Home Theater Systems'}\n",
      "]\n"
     ]
    }
   ],
   "source": [
    "delimiter = \"####\"\n",
    "system_message = f\"\"\"\n",
    "You will be provided with customer service queries. \\\n",
    "The customer service query will be delimited with \\\n",
    "{delimiter} characters.\n",
    "Output a python list of objects, where each object has \\\n",
    "the following format:\n",
    "    'category': <one of Computers and Laptops, \\\n",
    "    Smartphones and Accessories, \\\n",
    "    Televisions and Home Theater Systems, \\\n",
    "    Gaming Consoles and Accessories, \n",
    "    Audio Equipment, Cameras and Camcorders>,\n",
    "OR\n",
    "    'products': <a list of products that must \\\n",
    "    be found in the allowed products below>\n",
    "\n",
    "Where the categories and products must be found in \\\n",
    "the customer service query.\n",
    "If a product is mentioned, it must be associated with \\\n",
    "the correct category in the allowed products list below.\n",
    "If no products or categories are found, output an \\\n",
    "empty list.\n",
    "\n",
    "Allowed products: \n",
    "\n",
    "Computers and Laptops category:\n",
    "TechPro Ultrabook\n",
    "BlueWave Gaming Laptop\n",
    "PowerLite Convertible\n",
    "TechPro Desktop\n",
    "BlueWave Chromebook\n",
    "\n",
    "Smartphones and Accessories category:\n",
    "SmartX ProPhone\n",
    "MobiTech PowerCase\n",
    "SmartX MiniPhone\n",
    "MobiTech Wireless Charger\n",
    "SmartX EarBuds\n",
    "\n",
    "Televisions and Home Theater Systems category:\n",
    "CineView 4K TV\n",
    "SoundMax Home Theater\n",
    "CineView 8K TV\n",
    "SoundMax Soundbar\n",
    "CineView OLED TV\n",
    "\n",
    "Gaming Consoles and Accessories category:\n",
    "GameSphere X\n",
    "ProGamer Controller\n",
    "GameSphere Y\n",
    "ProGamer Racing Wheel\n",
    "GameSphere VR Headset\n",
    "\n",
    "Audio Equipment category:\n",
    "AudioPhonic Noise-Canceling Headphones\n",
    "WaveSound Bluetooth Speaker\n",
    "AudioPhonic True Wireless Earbuds\n",
    "WaveSound Soundbar\n",
    "AudioPhonic Turntable\n",
    "\n",
    "Cameras and Camcorders category:\n",
    "FotoSnap DSLR Camera\n",
    "ActionCam 4K\n",
    "FotoSnap Mirrorless Camera\n",
    "ZoomMaster Camcorder\n",
    "FotoSnap Instant Camera\n",
    "\n",
    "Only output the list of objects, with nothing else.\n",
    "\"\"\"\n",
    "user_message_1 = f\"\"\"\n",
    " tell me about the smartx pro phone and \\\n",
    " the fotosnap camera, the dslr one. \\\n",
    " Also tell me about your tvs \"\"\"\n",
    "messages =  [  \n",
    "{'role':'system', \n",
    " 'content': system_message},    \n",
    "{'role':'user', \n",
    " 'content': f\"{delimiter}{user_message_1}{delimiter}\"},  \n",
    "] \n",
    "category_and_product_response_1 = get_completion_from_messages(messages)\n",
    "print(category_and_product_response_1)"
   ]
  },
  {
   "cell_type": "code",
   "execution_count": 4,
   "metadata": {},
   "outputs": [
    {
     "name": "stdout",
     "output_type": "stream",
     "text": [
      "[]\n"
     ]
    }
   ],
   "source": [
    "user_message_2 = f\"\"\"\n",
    "my router isn't working\"\"\"\n",
    "messages =  [  \n",
    "{'role':'system',\n",
    " 'content': system_message},    \n",
    "{'role':'user',\n",
    " 'content': f\"{delimiter}{user_message_2}{delimiter}\"},  \n",
    "] \n",
    "response = get_completion_from_messages(messages)\n",
    "print(response)"
   ]
  },
  {
   "cell_type": "code",
   "execution_count": null,
   "metadata": {},
   "outputs": [],
   "source": []
  }
 ],
 "metadata": {
  "kernelspec": {
   "display_name": "Python 3.11.3 64-bit",
   "language": "python",
   "name": "python3"
  },
  "language_info": {
   "codemirror_mode": {
    "name": "ipython",
    "version": 3
   },
   "file_extension": ".py",
   "mimetype": "text/x-python",
   "name": "python",
   "nbconvert_exporter": "python",
   "pygments_lexer": "ipython3",
   "version": "3.11.3"
  },
  "orig_nbformat": 4,
  "vscode": {
   "interpreter": {
    "hash": "aee8b7b246df8f9039afb4144a1f6fd8d2ca17a180786b69acc140d282b71a49"
   }
  }
 },
 "nbformat": 4,
 "nbformat_minor": 2
}
